{
  "nbformat": 4,
  "nbformat_minor": 0,
  "metadata": {
    "colab": {
      "provenance": [],
      "include_colab_link": true
    },
    "kernelspec": {
      "name": "python3",
      "display_name": "Python 3"
    },
    "language_info": {
      "name": "python"
    }
  },
  "cells": [
    {
      "cell_type": "markdown",
      "metadata": {
        "id": "view-in-github",
        "colab_type": "text"
      },
      "source": [
        "<a href=\"https://colab.research.google.com/github/softwareengel/FOM_EDU/blob/main/2024-iit/python/Copy_of_2024_iit_py_Teil01_ProgrammierungEinstieg.ipynb\" target=\"_parent\"><img src=\"https://colab.research.google.com/assets/colab-badge.svg\" alt=\"Open In Colab\"/></a>"
      ]
    },
    {
      "cell_type": "markdown",
      "source": [
        "# Coloab Notebook IIT 2024\n",
        "\n",
        "- Author: (c) 2024 Prof. Dr. Volker Engels\n",
        "- Link:  https://colab.research.google.com/drive/1DMrBL0eulCnyBEBnSL5fsMIXZy6iNJOe?usp=sharing\n",
        "- Google Account nötig zum ausführen\n",
        "\n",
        "\n"
      ],
      "metadata": {
        "id": "xTHe1Pz8fPq8"
      }
    },
    {
      "cell_type": "markdown",
      "source": [
        "# Variablen und Zuweisung\n",
        "- Zuweisungsoperator  \"=\"\n",
        "- linke Seite: Variable\n",
        "- rechte Seite: Ausdruck\n",
        "- Ausdruck: Erstellen eines neuen Wertes\n",
        "\n"
      ],
      "metadata": {
        "id": "CRbDPZTmfr01"
      }
    },
    {
      "cell_type": "code",
      "source": [
        "# Zuweisung Zahlenwert 4 zu Variable mit dem Namen a\n",
        "a= 4\n",
        "# Zuweisung Zahlenwert 5 zu Variable mit dem Namen b\n",
        "b=5\n",
        "# Zuweisung des Berechnete Ausdrucks a+b zu Variable mit dem Namen c\n",
        "c=a+b\n",
        "# Systemausgabe des Wertes der Varibablen c\n",
        "print (c)\n",
        "\n",
        "# Systemausgabe des Wertes der Variablem a,b,c\n",
        "\n",
        "print (c)\n"
      ],
      "metadata": {
        "colab": {
          "base_uri": "https://localhost:8080/"
        },
        "id": "igxWS2zMf0MB",
        "outputId": "bd13de6f-71de-4de0-ed22-a1392a32721f"
      },
      "execution_count": null,
      "outputs": [
        {
          "output_type": "stream",
          "name": "stdout",
          "text": [
            "8\n"
          ]
        }
      ]
    },
    {
      "cell_type": "markdown",
      "source": [
        "# Sequenz\n",
        "\n",
        "Eine Sequenz / Kette von Anweisungen\n",
        "\n"
      ],
      "metadata": {
        "id": "rXGqBjrLfGd3"
      }
    }
  ]
}