{
  "nbformat": 4,
  "nbformat_minor": 0,
  "metadata": {
    "colab": {
      "provenance": [],
      "authorship_tag": "ABX9TyPd/SCSe/a3xn7a83xOKHJ2",
      "include_colab_link": true
    },
    "kernelspec": {
      "name": "python3",
      "display_name": "Python 3"
    },
    "language_info": {
      "name": "python"
    }
  },
  "cells": [
    {
      "cell_type": "markdown",
      "metadata": {
        "id": "view-in-github",
        "colab_type": "text"
      },
      "source": [
        "<a href=\"https://colab.research.google.com/github/softwareengel/FOM_EDU/blob/main/2023/colab/04_02.ipynb\" target=\"_parent\"><img src=\"https://colab.research.google.com/assets/colab-badge.svg\" alt=\"Open In Colab\"/></a>"
      ]
    },
    {
      "cell_type": "code",
      "execution_count": 1,
      "metadata": {
        "colab": {
          "base_uri": "https://localhost:8080/"
        },
        "id": "COqHhHXwicK5",
        "outputId": "352f8043-ec86-486d-e603-a0dbd0ad0121"
      },
      "outputs": [
        {
          "output_type": "stream",
          "name": "stdout",
          "text": [
            "# A04.02\n",
            "# A04.02.01\n",
            "Zahl eingabe:1\n",
            "1 ungerade\n"
          ]
        }
      ],
      "source": [
        "print (\"# A04.02\") \n",
        "\n",
        "# einz.\n",
        "'''\n",
        "Aufgabe 04.02 Vergleichsoperatoren und Auswahl \n",
        "Starten sie das Idle-Programm und erstellen sie für jede\n",
        "Aufgabe eine neu Datei.\n",
        "Schreiben sie ein Programm, dass eine Variable ein einliest.\n",
        "Berechnen sie, ob die Zahl gerade oder ungerade ist und geben\n",
        "sie das Ergebnis aus!\n",
        "'''\n",
        "\n",
        "# Lösung für A1 \n",
        "\n",
        "print (\"# A04.02.01\") \n",
        "a = int(float(input(\"Zahl eingabe:\")))\n",
        "if a % 2 == 1:\n",
        "    print (a, \"ungerade\")\n",
        "else:\n",
        "    print (a, \"gerade\")\n"
      ]
    },
    {
      "cell_type": "code",
      "source": [
        "'''\n",
        "Lesen Sie über die Konsole zwei Zahlen ein und geben Sie auf dem\n",
        "Bildschirm aus, ob die erste Zahl kleiner, größer oder gleich der\n",
        "zweiten Zahl ist.\n",
        "'''\n",
        "# Lösung für A2\n",
        "\n",
        "print (\"# A04.02.02.V1\")\n",
        "a1 = float(input(\"Zahl 1 eingabe:\"))\n",
        "a2 = float(input(\"Zahl 2 eingabe:\"))\n",
        "if a1>a2: # a1>a2\n",
        "    print (a1, \">\", a2)\n",
        "else: # a1<=a2\n",
        "    if a1==a2:\n",
        "        print (a1, \"=\", a2)\n",
        "    else:\n",
        "        print (a1, \"<\", a2)\n",
        "\n",
        "## Variante 2\n",
        "print (\"# A04.02.02.V2\")   \n",
        "if a1 > a2:\n",
        "    print (a1, \">\", a2)\n",
        "elif a1 == a2 :\n",
        "    print (a1, \"=\", a2)\n",
        "else:\n",
        "    print (a1, \"<\", a2)"
      ],
      "metadata": {
        "colab": {
          "base_uri": "https://localhost:8080/"
        },
        "id": "rglnJSAPi6jx",
        "outputId": "77cde243-2fda-4d5f-8947-28426bd0d95d"
      },
      "execution_count": 3,
      "outputs": [
        {
          "output_type": "stream",
          "name": "stdout",
          "text": [
            "# A04.02.02.V1\n",
            "Zahl 1 eingabe:1\n",
            "Zahl 2 eingabe:2\n",
            "1.0 < 2.0\n",
            "# A04.02.02.V2\n",
            "1.0 < 2.0\n"
          ]
        }
      ]
    },
    {
      "cell_type": "code",
      "source": [
        "'''\n",
        "Lesen Sie das Alter eines Menschen ein. Geben Sie dann in Abhängigkeit\n",
        "vom Alter die entsprechende Zeichenkette aus: Kind/Jugendlicher (unter 18),\n",
        "Erwachsener (18 bis unter 67), Rentner (ab 67).\n",
        "'''\n",
        "\n",
        "\n",
        "print (\"# A04.02.03.V1\")\n",
        "alter = int(input(\"Alter eingabe:\"))\n",
        "if alter < 18 :\n",
        "    print (\"alter < 18\")\n",
        "elif alter < 67 :\n",
        "    print (\"alter >= 18 alter < 67 :\")\n",
        "else:\n",
        "    print (\"alter >= 67\")\n",
        "    \n",
        "print (\"# A04.02.03.V2\")\n",
        "if alter < 18 :\n",
        "    print (\"alter < 18\")\n",
        "if alter >= 18 and alter < 67 :\n",
        "    print (\"alter >= 18 alter < 67 :\")\n",
        "if alter >= 67 :\n",
        "    print (\"alter >= 67\")"
      ],
      "metadata": {
        "colab": {
          "base_uri": "https://localhost:8080/"
        },
        "id": "CqlVwGUsi20B",
        "outputId": "1fbdddc4-f3b6-4eac-f75e-fcd02acb3a41"
      },
      "execution_count": 4,
      "outputs": [
        {
          "output_type": "stream",
          "name": "stdout",
          "text": [
            "# A04.02.03.V1\n",
            "Alter eingabe:1\n",
            "alter < 18\n",
            "# A04.02.03.V2\n",
            "alter < 18\n"
          ]
        }
      ]
    },
    {
      "cell_type": "code",
      "source": [
        "'''\n",
        "Lassen Sie den Benutzer drei unterschiedliche Zahlen eingeben.\n",
        "Geben Sie auf dem Bildschirm die Zahl aus, die am kleinsten ist.\n",
        "'''\n",
        "\n",
        "a = float(input(\"Zahl 1 eingabe:\"))\n",
        "b = float(input(\"Zahl 2 eingabe:\"))\n",
        "c = float(input(\"Zahl 3 eingabe:\"))\n",
        "\n",
        "print (\"# A04.02.04.V1\") # können wir noch nicht ... \n",
        "l = [a,b,c]\n",
        "minimum = min(l)\n",
        "print (minimum)\n",
        "\n",
        "print (\"# A04.02.04.V2\")\n",
        "if a< b and a<c :\n",
        "    print  (a , \" minimum\" )\n",
        "elif b< a and b<c :\n",
        "    print  (b, \" minimum\" )\n",
        "else :\n",
        "    print (c, \"minimum\")\n",
        "\n",
        "print (\"# A04.02.04.V3\")\n",
        "if a<b:\n",
        "    if a<c:\n",
        "        print (\"a:\", a)\n",
        "else:\n",
        "    if b<c:\n",
        "        print (\"b:\", b)\n",
        "    else:\n",
        "        print (\"c: \", c)"
      ],
      "metadata": {
        "colab": {
          "base_uri": "https://localhost:8080/"
        },
        "id": "-XaaLEDOi1Ne",
        "outputId": "111cad98-a979-4523-f89e-61c970cec434"
      },
      "execution_count": 5,
      "outputs": [
        {
          "output_type": "stream",
          "name": "stdout",
          "text": [
            "Zahl 1 eingabe:1\n",
            "Zahl 2 eingabe:2\n",
            "Zahl 3 eingabe:3\n",
            "# A04.02.04.V1\n",
            "1.0\n",
            "# A04.02.04.V2\n",
            "1.0  minimum\n",
            "# A04.02.04.V3\n",
            "a: 1.0\n"
          ]
        }
      ]
    }
  ]
}