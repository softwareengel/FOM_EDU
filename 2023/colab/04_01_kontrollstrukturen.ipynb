{
  "nbformat": 4,
  "nbformat_minor": 0,
  "metadata": {
    "colab": {
      "provenance": [],
      "authorship_tag": "ABX9TyO5/iuDksRxxZqINctL0a7K",
      "include_colab_link": true
    },
    "kernelspec": {
      "name": "python3",
      "display_name": "Python 3"
    },
    "language_info": {
      "name": "python"
    }
  },
  "cells": [
    {
      "cell_type": "markdown",
      "metadata": {
        "id": "view-in-github",
        "colab_type": "text"
      },
      "source": [
        "<a href=\"https://colab.research.google.com/github/softwareengel/FOM_EDU/blob/main/2023/colab/04_01_kontrollstrukturen.ipynb\" target=\"_parent\"><img src=\"https://colab.research.google.com/assets/colab-badge.svg\" alt=\"Open In Colab\"/></a>"
      ]
    },
    {
      "cell_type": "code",
      "execution_count": 1,
      "metadata": {
        "colab": {
          "base_uri": "https://localhost:8080/"
        },
        "id": "1m3-bopTh8aN",
        "outputId": "f4203f72-81a5-4230-f403-b0f90c1d3bb7"
      },
      "outputs": [
        {
          "name": "stdout",
          "output_type": "stream",
          "text": [
            "Anzahl Elemente in l2 vom Typ Liste:  3\n",
            "1 in Liste l\n",
            "2 in Liste l\n",
            "3 in Liste l\n",
            "4 in Liste l\n",
            "5.5 in Liste l\n",
            "2 in Liste l\n",
            "%2 != 0: 1\n",
            "%2 == 0: 2\n",
            "%2 != 0: 3\n",
            "%2 == 0: 4\n",
            "%2 != 0: 5.5\n",
            "Wert  0 in Range, Wert*Wert:  0\n",
            "Wert  1 in Range, Wert*Wert:  1\n",
            "Wert  2 in Range, Wert*Wert:  4\n",
            "Wert  3 in Range, Wert*Wert:  9\n",
            "Wert  4 in Range, Wert*Wert:  16\n",
            "Bedingungsschleige , solange wie Eingabe nicht gleich 0 \n",
            "Eingabe: 5\n",
            "Bedingungsschleige , solange wie Eingabe nicht gleich 0 \n",
            "Eingabe: 0\n"
          ]
        }
      ],
      "source": [
        "# einzeliger Kommentar bis zum Zeilenende \n",
        "l = [1,2,3,4,5.5] # Variable l mit einer Liste mit 5 Werten, links Variable l, Zuweisungsoerator = , rechts: Ausruck erstellt neue Werte \n",
        "l2 = [3,4,5] # Variable l2 mit einer Liste mit 3 Werten\n",
        "l3 = [] # Leere Liste \n",
        "\n",
        "''' Mehrzeiliger Kommentar \n",
        "= Mehrzeilige Zeichenkette , wenn eine Variable zugewiesen '''\n",
        "\n",
        "print (\"Anzahl Elemente in l2 vom Typ Liste: \", len (l2))\n",
        "for wert in l: # Zählscheife\n",
        "    print (wert, \"in Liste l\")\n",
        "\n",
        "if 2 in l: # Bedingte Verzweigung \n",
        "    print (\"2 in Liste l\")\n",
        "else:      # und alternative  \n",
        "    print (\"2 nicht in Liste l\")\n",
        "\n",
        "# verweigung in Zähl-Schleife \n",
        "for wert in l:\n",
        "    if wert %2 == 0:\n",
        "        print (\"%2 == 0:\" , wert)\n",
        "    else:\n",
        "        print (\"%2 != 0:\" , wert)\n",
        "        \n",
        "for wert in range(5):\n",
        "    print (\"Wert \", wert, \"in Range, Wert*Wert: \", wert**2)\n",
        "\n",
        "a=\"\"\n",
        "# Bedingungsschleife\n",
        "while not(a == \"0\"): # solange Bedingung erfüllt ist \n",
        "    print (\"Bedingungsschleige , solange wie Eingabe nicht gleich 0 \")\n",
        "    a = input (\"Eingabe: \")"
      ]
    }
  ]
}